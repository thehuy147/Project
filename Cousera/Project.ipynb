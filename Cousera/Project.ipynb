{
 "cells": [
  {
   "cell_type": "markdown",
   "id": "41ce5270-4c76-449e-b315-9613bc2bb879",
   "metadata": {},
   "source": [
    "## Data Science Tools and Ecosystem"
   ]
  },
  {
   "cell_type": "markdown",
   "id": "71fdc114-3b0d-4bfd-a205-afc96c34b41f",
   "metadata": {},
   "source": [
    "In this notebook, Data Science Tools and Ecosystem are summarized."
   ]
  },
  {
   "cell_type": "markdown",
   "id": "ffbbce14-cf27-464d-af3e-a8d44697758d",
   "metadata": {},
   "source": [
    "Some of the popular languages that Data Scientists use are:"
   ]
  },
  {
   "cell_type": "code",
   "execution_count": 1,
   "id": "4bcbdf35-7907-453e-865f-14ea5f6afcb9",
   "metadata": {},
   "outputs": [
    {
     "name": "stdout",
     "output_type": "stream",
     "text": [
      "1. Python\n",
      "2. R\n",
      "3. SQL\n",
      "4. Julia\n"
     ]
    }
   ],
   "source": [
    "languages = [\"Python\", \"R\", \"SQL\", \"Julia\"]\n",
    "\n",
    "for i, lang in enumerate(languages, 1):\n",
    "    print(f\"{i}. {lang}\")\n"
   ]
  },
  {
   "cell_type": "markdown",
   "id": "eeb6c486-5d96-4e8c-aa0d-c9997dbf6ffe",
   "metadata": {},
   "source": [
    "Some of the commonly used libraries used by Data Scientists include:"
   ]
  },
  {
   "cell_type": "code",
   "execution_count": 4,
   "id": "f4132a2a-51ef-4057-a9b7-c128873aab6d",
   "metadata": {},
   "outputs": [
    {
     "name": "stdout",
     "output_type": "stream",
     "text": [
      "1. NumPy\n",
      "2. Pandas\n",
      "3. Matplotlib\n",
      "4. Scikit-learn\n",
      "5. Seaborn\n"
     ]
    }
   ],
   "source": [
    "data_science_libs = [\"NumPy\", \"Pandas\", \"Matplotlib\", \"Scikit-learn\", \"Seaborn\"]\n",
    "for i, lib in enumerate(data_science_libs, 1):\n",
    "    print(f\"{i}. {lib}\")\n"
   ]
  },
  {
   "cell_type": "markdown",
   "id": "507469ad-cc66-46e4-8c75-746f57209c9a",
   "metadata": {},
   "source": [
    "| Data Science Tools |\n",
    "|--------------------|\n",
    "| Jupyter Notebook  |\n",
    "| RStudio          |\n",
    "| Apache Spark     |"
   ]
  },
  {
   "cell_type": "markdown",
   "id": "eaa1817b-cc5d-464b-a302-d2c2789272a8",
   "metadata": {},
   "source": [
    "### Below are a few examples of evaluating arithmetic expressions in Python"
   ]
  },
  {
   "cell_type": "code",
   "execution_count": 1,
   "id": "8342c119-27ee-4d04-8905-806797f764bf",
   "metadata": {},
   "outputs": [
    {
     "name": "stdout",
     "output_type": "stream",
     "text": [
      "17\n"
     ]
    }
   ],
   "source": [
    "# This a simple arithmetic expression to mutiply then add integers.\n",
    "print((3*4)+5)"
   ]
  },
  {
   "cell_type": "code",
   "execution_count": 2,
   "id": "2556658b-a473-4ea7-92f3-f14d7adddf64",
   "metadata": {},
   "outputs": [
    {
     "name": "stdout",
     "output_type": "stream",
     "text": [
      "3.3333333333333335\n"
     ]
    }
   ],
   "source": [
    "# This will convert 200 minutes to hours by dividing by 60\n",
    "hours = 200 / 60\n",
    "print(hours)"
   ]
  },
  {
   "cell_type": "markdown",
   "id": "b7ec0c54-076e-49df-9179-6cd93d369e4e",
   "metadata": {},
   "source": [
    "**Objectives:**\n",
    "- Understand the fundamentals of Data Science\n",
    "- Identify popular languages for Data Science\n",
    "- Learn basic data manipulation techniques\n",
    "- Explore visualization methods for data insights\n",
    "- Apply machine learning models to real-world problems"
   ]
  },
  {
   "cell_type": "markdown",
   "id": "b4dd1f14-dc12-4215-9831-3c532b21481a",
   "metadata": {},
   "source": [
    "## Author\n",
    "Truong The Huy"
   ]
  },
  {
   "cell_type": "code",
   "execution_count": null,
   "id": "08cfed87-102d-4c21-a93a-4e5491caedf5",
   "metadata": {},
   "outputs": [],
   "source": []
  }
 ],
 "metadata": {
  "kernelspec": {
   "display_name": "Python 3 (ipykernel)",
   "language": "python",
   "name": "python3"
  },
  "language_info": {
   "codemirror_mode": {
    "name": "ipython",
    "version": 3
   },
   "file_extension": ".py",
   "mimetype": "text/x-python",
   "name": "python",
   "nbconvert_exporter": "python",
   "pygments_lexer": "ipython3",
   "version": "3.11.7"
  }
 },
 "nbformat": 4,
 "nbformat_minor": 5
}
